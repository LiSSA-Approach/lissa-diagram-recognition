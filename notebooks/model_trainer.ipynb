{
 "cells": [
  {
   "cell_type": "markdown",
   "source": [
    "# Model Training\n",
    "\n",
    "This notebook is used to train a model for the sketch detection task."
   ],
   "metadata": {
    "collapsed": false
   },
   "id": "8966de37b103ead2"
  },
  {
   "cell_type": "code",
   "execution_count": null,
   "id": "controlled-medline",
   "metadata": {},
   "outputs": [],
   "source": [
    "!echo $PATH\n",
    "import os\n",
    "\n",
    "os.environ['PATH'] = os.environ['HOME'] + '/.local/bin:' + os.environ['PATH']\n",
    "!echo $PATH"
   ]
  },
  {
   "cell_type": "code",
   "execution_count": null,
   "id": "planned-spelling",
   "metadata": {},
   "outputs": [],
   "source": [
    "!python3 --version"
   ]
  },
  {
   "cell_type": "code",
   "execution_count": null,
   "id": "strange-links",
   "metadata": {},
   "outputs": [],
   "source": [
    "!nvcc --version"
   ]
  },
  {
   "cell_type": "code",
   "execution_count": null,
   "outputs": [],
   "source": [
    "# @formatter:off\n",
    "# https://pytorch.org/get-started/previous-versions/\n",
    "!pip3 install --pre torch torchvision torchaudio --index-url https://download.pytorch.org/whl/nightly/cu121 --user\n",
    "!pip install 'git+https://github.com/facebookresearch/detectron2.git' --user\n",
    "# @formatter:on"
   ],
   "metadata": {
    "collapsed": false
   },
   "id": "f7b6e6c85fe4dc13"
  },
  {
   "cell_type": "code",
   "execution_count": null,
   "id": "spoken-deputy",
   "metadata": {},
   "outputs": [],
   "source": [
    "import torch, torchvision\n",
    "\n",
    "print(torch.__version__, torch.cuda.is_available())\n",
    "print(torchvision.__version__)\n",
    "!gcc --version"
   ]
  },
  {
   "cell_type": "code",
   "execution_count": null,
   "id": "solved-engineering",
   "metadata": {},
   "outputs": [],
   "source": [
    "import os\n",
    "\n",
    "from detectron2.utils.logger import setup_logger\n",
    "\n",
    "setup_logger()"
   ]
  },
  {
   "cell_type": "markdown",
   "source": [
    "## Collect Training Data"
   ],
   "metadata": {
    "collapsed": false
   },
   "id": "2bc090d0717a0aa6"
  },
  {
   "cell_type": "code",
   "execution_count": null,
   "outputs": [],
   "source": [
    "from detectron2.data import DatasetCatalog, MetadataCatalog\n",
    "from src.utils.utils_json import print_json, read_json\n",
    "from src.dataset.dataset import read_dateset_from\n",
    "\n",
    "# @formatter:off\n",
    "# datadir = \"datasets/fa\"\n",
    "datadir = \"datasets/hdBPMN-icdar2021\"\n",
    "# datadir = \"Sketches-Dataset-main/data\"\n",
    "# @formatter:on\n",
    "\n",
    "training_meta_path = os.path.join(datadir, \"train.json\")\n",
    "classes = list(map(lambda x: x[\"name\"], read_json(training_meta_path)[\"categories\"]))\n",
    "classes.sort()\n",
    "\n",
    "print_json(classes, tag=\"Classes\")\n",
    "\n",
    "\n",
    "def on_register_dataset(x):\n",
    "    dataset = read_dateset_from(datadir, x)\n",
    "    return dataset\n",
    "\n",
    "\n",
    "for d in [\"train\", \"val\"]:\n",
    "    name = \"sketches_\" + d\n",
    "\n",
    "    # Remove previously registered datasets if they exist\n",
    "    try:\n",
    "        DatasetCatalog.remove(name)\n",
    "        MetadataCatalog.remove(name)\n",
    "    except KeyError:\n",
    "        pass\n",
    "\n",
    "    # Register new dataset\n",
    "    DatasetCatalog.register(name, lambda x=d: on_register_dataset(x))\n",
    "    MetadataCatalog.get(name).set(thing_classes=classes)"
   ],
   "metadata": {
    "collapsed": false
   },
   "id": "9f56b0c57c09a267"
  },
  {
   "cell_type": "code",
   "execution_count": null,
   "outputs": [],
   "source": [
    "from detectron2.utils.visualizer import Visualizer\n",
    "import cv2\n",
    "import random\n",
    "\n",
    "sketches_metadata = MetadataCatalog.get(\"sketches_train\")\n",
    "training_dataset = read_dateset_from(datadir, \"train\")"
   ],
   "metadata": {
    "collapsed": false
   },
   "id": "407a1424137ddbc3"
  },
  {
   "cell_type": "code",
   "execution_count": null,
   "outputs": [],
   "source": [
    "# https://detectron2.readthedocs.io/en/latest/tutorials/datasets.html#metadata-for-datasets\n",
    "MetadataCatalog.get(\"sketches_train\").keypoint_names = [\n",
    "    \"head\",\n",
    "    \"tail\",\n",
    "]\n",
    "\n",
    "MetadataCatalog.get(\"sketches_train\").keypoint_flip_map = (\n",
    "    (\"head\", \"tail\"),\n",
    "    (\"tail\", \"head\"),\n",
    ")\n",
    "\n",
    "print_json(MetadataCatalog.get(\"sketches_train\").thing_classes, tag=\"thing_classes\")\n",
    "print_json(MetadataCatalog.get(\"sketches_train\").keypoint_names, tag=\"keypoint_names\")"
   ],
   "metadata": {
    "collapsed": false
   },
   "id": "907872d3c0f4cece"
  },
  {
   "cell_type": "markdown",
   "source": [
    "## Configure Model Training"
   ],
   "metadata": {
    "collapsed": false
   },
   "id": "bf22fc9f93fed232"
  },
  {
   "cell_type": "code",
   "execution_count": null,
   "outputs": [],
   "source": [
    "from names_generator import generate_name\n",
    "\n",
    "model_name = generate_name()\n",
    "print(f\"Model name: '{model_name}'\")"
   ],
   "metadata": {
    "collapsed": false
   },
   "id": "103f5463e0007527"
  },
  {
   "cell_type": "code",
   "execution_count": null,
   "id": "fitting-philosophy",
   "metadata": {},
   "outputs": [],
   "source": [
    "import multiprocessing\n",
    "from detectron2 import model_zoo\n",
    "from detectron2.config import get_cfg\n",
    "\n",
    "from src.utils.utils_json import write_json\n",
    "from src.sketch_detection_rcnn.roi_heads import SketchROIHeads  # noqa # pylint: disable=unused-import\n",
    "\n",
    "pretrained_model = \"COCO-Detection/faster_rcnn_X_101_32x8d_FPN_3x.yaml\"\n",
    "\n",
    "cfg = get_cfg()\n",
    "\n",
    "# Use pre-trained model\n",
    "cfg.merge_from_file(model_zoo.get_config_file(pretrained_model))\n",
    "cfg.MODEL.WEIGHTS = model_zoo.get_checkpoint_url(pretrained_model)\n",
    "\n",
    "# Use pre-pre-trained model\n",
    "# cfg.merge_from_file(model_zoo.get_config_file(pretrained_model))\n",
    "# cfg.MODEL.WEIGHTS = \"/home/jupyter-patrickzierahn/models/clever_mahavira/model_final.pth\"\n",
    "\n",
    "cfg.OUTPUT_DIR = os.path.join(\"models\", model_name)\n",
    "\n",
    "# Set training data\n",
    "cfg.DATALOADER.NUM_WORKERS = multiprocessing.cpu_count()\n",
    "cfg.DATASETS.TRAIN = (\"sketches_train\",)\n",
    "cfg.DATASETS.TEST = (\"sketches_val\",)\n",
    "\n",
    "# pick a good LR\n",
    "cfg.SOLVER.BASE_LR = 0.005\n",
    "cfg.SOLVER.MAX_ITER = 3000\n",
    "cfg.SOLVER.IMS_PER_BATCH = 10\n",
    "\n",
    "# Region of Interest\n",
    "cfg.MODEL.ROI_HEADS.NAME = \"SketchROIHeads\"\n",
    "cfg.MODEL.ROI_HEADS.BATCH_SIZE_PER_IMAGE = 128\n",
    "cfg.MODEL.ROI_HEADS.NUM_CLASSES = len(classes)\n",
    "\n",
    "# Keypoints\n",
    "cfg.MODEL.KEYPOINT_ON = True\n",
    "cfg.MODEL.ROI_KEYPOINT_HEAD.NUM_KEYPOINTS = 2\n",
    "cfg.TEST.KEYPOINT_OKS_SIGMAS = [1.0] * cfg.MODEL.ROI_KEYPOINT_HEAD.NUM_KEYPOINTS\n",
    "\n",
    "# Write config to file\n",
    "os.makedirs(cfg.OUTPUT_DIR, exist_ok=True)\n",
    "cfg_file = os.path.join(cfg.OUTPUT_DIR, \"cfg.json\")\n",
    "write_json(cfg_file, cfg)\n",
    "\n",
    "# Write class names to file\n",
    "classes_file = os.path.join(cfg.OUTPUT_DIR, \"classes.json\")\n",
    "write_json(classes_file, classes)\n",
    "\n",
    "# Print config\n",
    "print_json(cfg)"
   ]
  },
  {
   "cell_type": "markdown",
   "source": [
    "## Print Model Layers"
   ],
   "metadata": {
    "collapsed": false
   },
   "id": "fe5bb01f0da489a3"
  },
  {
   "cell_type": "code",
   "execution_count": null,
   "outputs": [],
   "source": [
    "from detectron2.modeling import build_model\n",
    "\n",
    "model = build_model(cfg)"
   ],
   "metadata": {
    "collapsed": false
   },
   "id": "1327fa7a87f6c6eb"
  },
  {
   "cell_type": "markdown",
   "source": [
    "## Train Model"
   ],
   "metadata": {
    "collapsed": false
   },
   "id": "fa1615c9786b88c1"
  },
  {
   "cell_type": "code",
   "execution_count": null,
   "outputs": [],
   "source": [
    "import time\n",
    "from detectron2.engine import DefaultTrainer\n",
    "\n",
    "start_time = time.time()\n",
    "\n",
    "trainer = DefaultTrainer(cfg)\n",
    "trainer.resume_or_load(resume=False)\n",
    "trainer.train()\n",
    "\n",
    "training_duration = time.time() - start_time"
   ],
   "metadata": {
    "collapsed": false,
    "is_executing": true
   },
   "id": "cea988a8fa5d9f3e"
  },
  {
   "cell_type": "markdown",
   "source": [
    "## Gather Evaluation Metrics"
   ],
   "metadata": {
    "collapsed": false
   },
   "id": "aa19f2fe68770d4d"
  },
  {
   "cell_type": "code",
   "execution_count": null,
   "outputs": [],
   "source": [
    "from detectron2.engine import DefaultPredictor\n",
    "\n",
    "# path to the model we just trained\n",
    "cfg.MODEL.WEIGHTS = os.path.join(cfg.OUTPUT_DIR, \"model_final.pth\")\n",
    "cfg.MODEL.ROI_HEADS.SCORE_THRESH_TEST = 0.4  # set a custom testing threshold\n",
    "predictor = DefaultPredictor(cfg)"
   ],
   "metadata": {
    "collapsed": false,
    "is_executing": true
   },
   "id": "da44406a4e32a824"
  },
  {
   "cell_type": "code",
   "execution_count": null,
   "outputs": [],
   "source": [
    "%matplotlib inline\n",
    "from src.visualization.visualize import show_img\n",
    "\n",
    "validation_dataset = read_dateset_from(datadir, \"val\")\n",
    "\n",
    "for record in random.sample(validation_dataset, 1):\n",
    "    im = cv2.imread(record[\"file_name\"])\n",
    "    print(record[\"file_name\"])\n",
    "    # format is documented at https://detectron2.readthedocs.io/tutorials/models.html#model-output-format\n",
    "    outputs = predictor(im)\n",
    "\n",
    "    # print_json(record, tag=\"record\")\n",
    "    # print(\"outputs\", outputs)\n",
    "\n",
    "    # instance_mode=ColorMode.IMAGE_BW   # remove the colors of unsegmented pixels. This option is only available for segmentation models\n",
    "    v = Visualizer(im, metadata=sketches_metadata, scale=0.5)\n",
    "    out = v.draw_instance_predictions(outputs[\"instances\"].to(\"cpu\"))\n",
    "    show_img(out.get_image())"
   ],
   "metadata": {
    "collapsed": false,
    "is_executing": true
   },
   "id": "8bacfb0b787d622f"
  },
  {
   "cell_type": "code",
   "execution_count": null,
   "outputs": [],
   "source": [
    "from detectron2.evaluation import COCOEvaluator\n",
    "\n",
    "outdir = os.path.join(\"reports\", model_name)\n",
    "os.makedirs(outdir, exist_ok=True)\n",
    "\n",
    "test_datasets = cfg.DATASETS.TEST\n",
    "evaluator = [\n",
    "    COCOEvaluator(\n",
    "        test_set,\n",
    "        cfg,\n",
    "        distributed=False,\n",
    "        output_dir=outdir,\n",
    "    )\n",
    "    for test_set in test_datasets\n",
    "]\n",
    "\n",
    "metrics = DefaultTrainer.test(cfg, predictor.model, evaluator)"
   ],
   "metadata": {
    "collapsed": false,
    "is_executing": true
   },
   "id": "523c9758e8c63641"
  },
  {
   "cell_type": "code",
   "execution_count": null,
   "outputs": [],
   "source": [
    "from datetime import datetime\n",
    "\n",
    "# Convert inference to a dict and remove NaN values\n",
    "inference_dict = dict((k, v) for k, v in metrics.items())\n",
    "metrics_file = os.path.join(cfg.OUTPUT_DIR, \"metrics.json\")\n",
    "\n",
    "report = {\n",
    "    \"model_name\": model_name,\n",
    "    \"training_time\": training_duration,\n",
    "    \"training_data\": datadir,\n",
    "    \"model_path\": cfg.OUTPUT_DIR,\n",
    "    \"config_file\": cfg_file,\n",
    "    \"inference\": inference_dict,\n",
    "    \"metrics_file\": metrics_file,\n",
    "    \"date\": datetime.now().strftime(\"%Y-%m-%d %H:%M:%S\"),\n",
    "}\n",
    "\n",
    "report_file = f\"reports/{model_name}.json\"\n",
    "write_json(report_file, report)\n",
    "\n",
    "print_json(report)"
   ],
   "metadata": {
    "collapsed": false,
    "is_executing": true
   },
   "id": "811e0a648eb5e898"
  },
  {
   "cell_type": "code",
   "execution_count": null,
   "outputs": [],
   "source": [
    "print(f\"Model name: '{model_name}', training time: {training_duration / 60:.0f} minutes\")"
   ],
   "metadata": {
    "collapsed": false,
    "is_executing": true
   },
   "id": "c372d56286c9749d"
  }
 ],
 "metadata": {
  "kernelspec": {
   "display_name": "Python 3",
   "language": "python",
   "name": "python3"
  },
  "language_info": {
   "codemirror_mode": {
    "name": "ipython",
    "version": 3
   },
   "file_extension": ".py",
   "mimetype": "text/x-python",
   "name": "python",
   "nbconvert_exporter": "python",
   "pygments_lexer": "ipython3",
   "version": "3.7.3"
  }
 },
 "nbformat": 4,
 "nbformat_minor": 5
}
